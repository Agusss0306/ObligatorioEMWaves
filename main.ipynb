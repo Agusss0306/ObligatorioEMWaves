{
 "cells": [
  {
   "cell_type": "markdown",
   "id": "e106f200",
   "metadata": {},
   "source": [
    "### Definición de constantes y parámetros del problema"
   ]
  },
  {
   "cell_type": "code",
   "execution_count": null,
   "id": "18e7c339",
   "metadata": {},
   "outputs": [],
   "source": [
    "c = 299792458.0\n",
    "\n",
    "f0 = 1e9\n",
    "\n",
    "eps0 = 8.854e-12\n",
    "eps1 = 8.854e-12\n",
    "eps2 = 16 * eps0"
   ]
  },
  {
   "cell_type": "markdown",
   "id": "a04a042c",
   "metadata": {},
   "source": [
    "# Parte a"
   ]
  },
  {
   "cell_type": "code",
   "execution_count": null,
   "id": "2fd75dbd",
   "metadata": {},
   "outputs": [],
   "source": []
  }
 ],
 "metadata": {
  "language_info": {
   "name": "python"
  }
 },
 "nbformat": 4,
 "nbformat_minor": 5
}
