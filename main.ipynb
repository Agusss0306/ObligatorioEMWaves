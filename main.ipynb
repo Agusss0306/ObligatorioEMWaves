{
 "cells": [
  {
   "cell_type": "code",
   "execution_count": null,
   "id": "fe4acb97",
   "metadata": {},
   "outputs": [],
   "source": [
    "import numpy as np\n",
    "import matplotlib.pyplot as plt"
   ]
  },
  {
   "cell_type": "markdown",
   "id": "e106f200",
   "metadata": {},
   "source": [
    "### Definición de constantes y parámetros del problema"
   ]
  },
  {
   "cell_type": "code",
   "execution_count": 1,
   "id": "18e7c339",
   "metadata": {},
   "outputs": [],
   "source": [
    "c = 299792458.0\n",
    "\n",
    "f0 = 1e9\n",
    "\n",
    "eps0 = 8.854e-12\n",
    "eps1 = 8.854e-12\n",
    "eps2 = 16 * eps0"
   ]
  },
  {
   "cell_type": "markdown",
   "id": "a04a042c",
   "metadata": {},
   "source": [
    "# Parte a"
   ]
  },
  {
   "cell_type": "code",
   "execution_count": null,
   "id": "2fd75dbd",
   "metadata": {},
   "outputs": [],
   "source": []
  }
 ],
 "metadata": {
  "kernelspec": {
   "display_name": "Python 3",
   "language": "python",
   "name": "python3"
  },
  "language_info": {
   "codemirror_mode": {
    "name": "ipython",
    "version": 3
   },
   "file_extension": ".py",
   "mimetype": "text/x-python",
   "name": "python",
   "nbconvert_exporter": "python",
   "pygments_lexer": "ipython3",
   "version": "3.12.5"
  }
 },
 "nbformat": 4,
 "nbformat_minor": 5
}
