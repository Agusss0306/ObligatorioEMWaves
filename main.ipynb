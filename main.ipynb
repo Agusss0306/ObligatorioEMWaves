{
 "cells": [
  {
   "cell_type": "code",
   "execution_count": null,
   "id": "fe4acb97",
   "metadata": {},
   "outputs": [],
   "source": [
    "import numpy as np\n",
    "import matplotlib.pyplot as plt"
   ]
  },
  {
   "cell_type": "markdown",
   "id": "e106f200",
   "metadata": {},
   "source": [
    "### Definición de constantes y parámetros del problema"
   ]
  },
  {
   "cell_type": "code",
   "execution_count": null,
   "id": "18e7c339",
   "metadata": {},
   "outputs": [],
   "source": [
    "c = 299792458.0\n",
    "\n",
    "f0 = 1e9\n",
    "er1 = 1\n",
    "er2 = 16.0\n",
    "ert = 4.0\n",
    "\n",
    "eps0 = 8.854e-12\n",
    "eps1 = 8.854e-12\n",
    "eps2 = er1 * eps0\n",
    "\n",
    "eta0 = 120 * np.pi\n",
    "eta1 = eta0 / np.sqrt(er1)  \n",
    "eta2 = eta0 / np.sqrt(er2)  \n",
    "etat = eta0 / np.sqrt(ert)\n",
    "\n",
    "# Lambda en la lámina a f0\n",
    "lambda_m0 = c / (f0 * np.sqrt(eps_m / eps0))\n",
    "\n",
    "# Espesor de la lámina (cuarto de onda)\n",
    "d = lambda_m0 / 4\n"
   ]
  },
  {
   "cell_type": "markdown",
   "id": "a04a042c",
   "metadata": {},
   "source": [
    "# Parte a"
   ]
  },
  {
   "cell_type": "code",
   "execution_count": null,
   "id": "2fd75dbd",
   "metadata": {},
   "outputs": [],
   "source": [
    "\n"
   ]
  },
  {
   "cell_type": "markdown",
   "id": "4b6e2ec9",
   "metadata": {},
   "source": [
    "# Parte b"
   ]
  },
  {
   "cell_type": "code",
   "execution_count": null,
   "id": "a1062a64",
   "metadata": {},
   "outputs": [],
   "source": []
  },
  {
   "cell_type": "code",
   "execution_count": null,
   "id": "3c0877dd",
   "metadata": {},
   "outputs": [],
   "source": []
  }
 ],
 "metadata": {
  "kernelspec": {
   "display_name": "Python 3",
   "language": "python",
   "name": "python3"
  },
  "language_info": {
   "codemirror_mode": {
    "name": "ipython",
    "version": 3
   },
   "file_extension": ".py",
   "mimetype": "text/x-python",
   "name": "python",
   "nbconvert_exporter": "python",
   "pygments_lexer": "ipython3",
   "version": "3.12.5"
  }
 },
 "nbformat": 4,
 "nbformat_minor": 5
}
