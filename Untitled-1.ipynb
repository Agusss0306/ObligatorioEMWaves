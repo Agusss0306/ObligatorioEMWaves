{
 "cells": [
  {
   "cell_type": "code",
   "execution_count": null,
   "id": "2fd75dbd",
   "metadata": {},
   "outputs": [],
   "source": []
  }
 ],
 "metadata": {
  "language_info": {
   "name": "python"
  }
 },
 "nbformat": 4,
 "nbformat_minor": 5
}
